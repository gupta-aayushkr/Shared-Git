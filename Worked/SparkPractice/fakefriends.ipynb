{
 "cells": [
  {
   "cell_type": "code",
   "execution_count": 2,
   "metadata": {},
   "outputs": [],
   "source": [
    "from pyspark.sql import SparkSession\n",
    "from pyspark.sql.functions import count, sum, avg"
   ]
  },
  {
   "cell_type": "code",
   "execution_count": 3,
   "metadata": {},
   "outputs": [
    {
     "name": "stderr",
     "output_type": "stream",
     "text": [
      "24/07/30 14:19:34 WARN Utils: Your hostname, Aayushs-MacBook-Air.local resolves to a loopback address: 127.0.0.1; using 192.168.29.173 instead (on interface en0)\n",
      "24/07/30 14:19:34 WARN Utils: Set SPARK_LOCAL_IP if you need to bind to another address\n",
      "Setting default log level to \"WARN\".\n",
      "To adjust logging level use sc.setLogLevel(newLevel). For SparkR, use setLogLevel(newLevel).\n",
      "24/07/30 14:19:35 WARN NativeCodeLoader: Unable to load native-hadoop library for your platform... using builtin-java classes where applicable\n"
     ]
    }
   ],
   "source": [
    "spark = SparkSession.builder \\\n",
    "        .appName(\"Fake Friends\") \\\n",
    "        .getOrCreate()"
   ]
  },
  {
   "cell_type": "code",
   "execution_count": 4,
   "metadata": {},
   "outputs": [
    {
     "name": "stdout",
     "output_type": "stream",
     "text": [
      "+---+--------+---+---+\n",
      "|_c0|     _c1|_c2|_c3|\n",
      "+---+--------+---+---+\n",
      "|  0|    Will| 33|385|\n",
      "|  1|Jean-Luc| 26|  2|\n",
      "|  2|    Hugh| 55|221|\n",
      "|  3|  Deanna| 40|465|\n",
      "|  4|   Quark| 68| 21|\n",
      "|  5|  Weyoun| 59|318|\n",
      "|  6|  Gowron| 37|220|\n",
      "|  7|    Will| 54|307|\n",
      "|  8|  Jadzia| 38|380|\n",
      "|  9|    Hugh| 27|181|\n",
      "| 10|     Odo| 53|191|\n",
      "| 11|     Ben| 57|372|\n",
      "| 12|   Keiko| 54|253|\n",
      "| 13|Jean-Luc| 56|444|\n",
      "| 14|    Hugh| 43| 49|\n",
      "| 15|     Rom| 36| 49|\n",
      "| 16|  Weyoun| 22|323|\n",
      "| 17|     Odo| 35| 13|\n",
      "| 18|Jean-Luc| 45|455|\n",
      "| 19|  Geordi| 60|246|\n",
      "+---+--------+---+---+\n",
      "only showing top 20 rows\n",
      "\n"
     ]
    }
   ],
   "source": [
    "df = spark.read.csv(\"fakefriends.csv\", inferSchema=True)\n",
    "df.show()"
   ]
  },
  {
   "cell_type": "code",
   "execution_count": 5,
   "metadata": {},
   "outputs": [],
   "source": [
    "df.createGlobalTempView(\"fakefriends\")"
   ]
  },
  {
   "cell_type": "code",
   "execution_count": 6,
   "metadata": {},
   "outputs": [
    {
     "name": "stdout",
     "output_type": "stream",
     "text": [
      "+-----+----+---+------+\n",
      "|Index|Name|Age|Number|\n",
      "+-----+----+---+------+\n",
      "|    0|Will| 33|   385|\n",
      "+-----+----+---+------+\n",
      "only showing top 1 row\n",
      "\n"
     ]
    }
   ],
   "source": [
    "df2 = df.withColumnRenamed(\"_c0\",\"Index\") \\\n",
    "            .withColumnRenamed(\"_c1\",\"Name\") \\\n",
    "            .withColumnRenamed(\"_c2\",\"Age\") \\\n",
    "            .withColumnRenamed(\"_c3\",\"Number\")\n",
    "df2.show(1)"
   ]
  },
  {
   "cell_type": "code",
   "execution_count": 7,
   "metadata": {},
   "outputs": [
    {
     "name": "stdout",
     "output_type": "stream",
     "text": [
      "+---+-------+\n",
      "|Age|age_sum|\n",
      "+---+-------+\n",
      "| 31|   2138|\n",
      "| 65|   1491|\n",
      "| 53|   1560|\n",
      "| 34|   1473|\n",
      "| 28|   2091|\n",
      "| 26|   4115|\n",
      "| 27|   1825|\n",
      "| 44|   3386|\n",
      "| 22|   1445|\n",
      "| 47|   2099|\n",
      "| 52|   3747|\n",
      "| 40|   4264|\n",
      "| 20|    825|\n",
      "| 57|   3106|\n",
      "| 54|   3615|\n",
      "| 48|   2814|\n",
      "| 19|   2346|\n",
      "| 64|   3376|\n",
      "| 41|   2417|\n",
      "| 43|   1614|\n",
      "+---+-------+\n",
      "only showing top 20 rows\n",
      "\n"
     ]
    }
   ],
   "source": [
    "# Perform the aggregation\n",
    "df3 = df2.groupBy(\"Age\").agg(sum(\"Number\").alias(\"age_sum\")).show()"
   ]
  },
  {
   "cell_type": "code",
   "execution_count": 8,
   "metadata": {},
   "outputs": [
    {
     "name": "stdout",
     "output_type": "stream",
     "text": [
      "+---+------------------+\n",
      "|Age|           age_avg|\n",
      "+---+------------------+\n",
      "| 31|            267.25|\n",
      "| 65|             298.2|\n",
      "| 53|222.85714285714286|\n",
      "| 34|             245.5|\n",
      "| 28|             209.1|\n",
      "| 26|242.05882352941177|\n",
      "| 27|           228.125|\n",
      "| 44| 282.1666666666667|\n",
      "| 22|206.42857142857142|\n",
      "| 47|233.22222222222223|\n",
      "| 52| 340.6363636363636|\n",
      "| 40| 250.8235294117647|\n",
      "| 20|             165.0|\n",
      "| 57| 258.8333333333333|\n",
      "| 54| 278.0769230769231|\n",
      "| 48|             281.4|\n",
      "| 19|213.27272727272728|\n",
      "| 64| 281.3333333333333|\n",
      "| 41|268.55555555555554|\n",
      "| 43|230.57142857142858|\n",
      "+---+------------------+\n",
      "only showing top 20 rows\n",
      "\n"
     ]
    }
   ],
   "source": [
    "# Perform the aggregation\n",
    "df3 = df2.groupBy(\"Age\").agg(avg(\"Number\").alias(\"age_avg\")).show()"
   ]
  },
  {
   "cell_type": "code",
   "execution_count": 13,
   "metadata": {},
   "outputs": [
    {
     "name": "stdout",
     "output_type": "stream",
     "text": [
      "+---+-----+\n",
      "|Age|count|\n",
      "+---+-----+\n",
      "| 18|    8|\n",
      "| 19|   11|\n",
      "| 20|    5|\n",
      "| 21|    8|\n",
      "| 22|    7|\n",
      "| 23|   10|\n",
      "| 24|    5|\n",
      "| 25|   11|\n",
      "| 26|   17|\n",
      "| 27|    8|\n",
      "| 28|   10|\n",
      "| 29|   12|\n",
      "| 30|   11|\n",
      "| 31|    8|\n",
      "| 32|   11|\n",
      "| 33|   12|\n",
      "| 34|    6|\n",
      "| 35|    8|\n",
      "| 36|   10|\n",
      "| 37|    9|\n",
      "+---+-----+\n",
      "only showing top 20 rows\n",
      "\n"
     ]
    }
   ],
   "source": [
    "age_count = df2.groupBy(\"Age\").count().orderBy(\"Age\").show()"
   ]
  },
  {
   "cell_type": "markdown",
   "metadata": {},
   "source": [
    "# SPARK SQL"
   ]
  },
  {
   "cell_type": "code",
   "execution_count": 9,
   "metadata": {},
   "outputs": [],
   "source": [
    "# Drop table if exists\n",
    "spark.sql(\"DROP TABLE IF EXISTS global_temp.fakefriends\")\n",
    "\n",
    "# Create Global Temporary View\n",
    "df2.createGlobalTempView(\"fakefriends\")"
   ]
  },
  {
   "cell_type": "code",
   "execution_count": 10,
   "metadata": {},
   "outputs": [
    {
     "name": "stdout",
     "output_type": "stream",
     "text": [
      "+-----+--------+---+------+\n",
      "|Index|    Name|Age|Number|\n",
      "+-----+--------+---+------+\n",
      "|    0|    Will| 33|   385|\n",
      "|    1|Jean-Luc| 26|     2|\n",
      "|    2|    Hugh| 55|   221|\n",
      "|    3|  Deanna| 40|   465|\n",
      "|    4|   Quark| 68|    21|\n",
      "|    5|  Weyoun| 59|   318|\n",
      "|    6|  Gowron| 37|   220|\n",
      "|    7|    Will| 54|   307|\n",
      "|    8|  Jadzia| 38|   380|\n",
      "|    9|    Hugh| 27|   181|\n",
      "|   10|     Odo| 53|   191|\n",
      "|   11|     Ben| 57|   372|\n",
      "|   12|   Keiko| 54|   253|\n",
      "|   13|Jean-Luc| 56|   444|\n",
      "|   14|    Hugh| 43|    49|\n",
      "|   15|     Rom| 36|    49|\n",
      "|   16|  Weyoun| 22|   323|\n",
      "|   17|     Odo| 35|    13|\n",
      "|   18|Jean-Luc| 45|   455|\n",
      "|   19|  Geordi| 60|   246|\n",
      "+-----+--------+---+------+\n",
      "only showing top 20 rows\n",
      "\n"
     ]
    }
   ],
   "source": [
    "# Check if the view is created successfully\n",
    "spark.sql(\"SELECT * FROM global_temp.fakefriends\").show()"
   ]
  },
  {
   "cell_type": "code",
   "execution_count": 11,
   "metadata": {},
   "outputs": [
    {
     "name": "stdout",
     "output_type": "stream",
     "text": [
      "+-----+-------+---+------+\n",
      "|Index|   Name|Age|Number|\n",
      "+-----+-------+---+------+\n",
      "|   21|  Miles| 19|   268|\n",
      "|   52|Beverly| 19|   269|\n",
      "|   54|  Brunt| 19|     5|\n",
      "|  106|Beverly| 18|   499|\n",
      "|  115|  Dukat| 18|   397|\n",
      "|  133|  Quark| 19|   265|\n",
      "|  136|   Will| 19|   335|\n",
      "|  225|   Elim| 19|   106|\n",
      "|  304|   Will| 19|   404|\n",
      "|  341|   Data| 18|   326|\n",
      "|  366|  Keiko| 19|   119|\n",
      "|  373|  Quark| 19|   272|\n",
      "|  377|Beverly| 18|   418|\n",
      "|  404| Kasidy| 18|    24|\n",
      "|  409|    Nog| 19|   267|\n",
      "|  439|   Data| 18|   417|\n",
      "|  444|  Keiko| 18|   472|\n",
      "|  492|  Dukat| 19|    36|\n",
      "|  494| Kasidy| 18|   194|\n",
      "+-----+-------+---+------+\n",
      "\n"
     ]
    }
   ],
   "source": [
    "spark.sql(\"select * from global_temp.fakefriends where Age >= 13 and Age <= 19\").show()"
   ]
  },
  {
   "cell_type": "markdown",
   "metadata": {},
   "source": [
    "# approach 2"
   ]
  },
  {
   "cell_type": "code",
   "execution_count": 18,
   "metadata": {},
   "outputs": [
    {
     "name": "stdout",
     "output_type": "stream",
     "text": [
      "+-----+-------+---+------+\n",
      "|Index|   Name|Age|Number|\n",
      "+-----+-------+---+------+\n",
      "|  106|Beverly| 18|   499|\n",
      "|  115|  Dukat| 18|   397|\n",
      "|  341|   Data| 18|   326|\n",
      "|  377|Beverly| 18|   418|\n",
      "|  404| Kasidy| 18|    24|\n",
      "|  439|   Data| 18|   417|\n",
      "|  444|  Keiko| 18|   472|\n",
      "|  494| Kasidy| 18|   194|\n",
      "|   21|  Miles| 19|   268|\n",
      "|   52|Beverly| 19|   269|\n",
      "|   54|  Brunt| 19|     5|\n",
      "|  133|  Quark| 19|   265|\n",
      "|  136|   Will| 19|   335|\n",
      "|  225|   Elim| 19|   106|\n",
      "|  304|   Will| 19|   404|\n",
      "|  366|  Keiko| 19|   119|\n",
      "|  373|  Quark| 19|   272|\n",
      "|  409|    Nog| 19|   267|\n",
      "|  492|  Dukat| 19|    36|\n",
      "+-----+-------+---+------+\n",
      "\n"
     ]
    }
   ],
   "source": [
    "age_count = df2.select(\"*\").where(\"Age >= 13 and Age <= 19\").orderBy(\"Age\").show()"
   ]
  },
  {
   "cell_type": "code",
   "execution_count": null,
   "metadata": {},
   "outputs": [],
   "source": []
  }
 ],
 "metadata": {
  "kernelspec": {
   "display_name": "base",
   "language": "python",
   "name": "python3"
  },
  "language_info": {
   "codemirror_mode": {
    "name": "ipython",
    "version": 3
   },
   "file_extension": ".py",
   "mimetype": "text/x-python",
   "name": "python",
   "nbconvert_exporter": "python",
   "pygments_lexer": "ipython3",
   "version": "3.12.2"
  }
 },
 "nbformat": 4,
 "nbformat_minor": 2
}
